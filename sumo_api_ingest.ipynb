{
 "cells": [
  {
   "cell_type": "code",
   "execution_count": 23,
   "id": "4a9b3677-efa3-4db9-a69f-b898a39d7d68",
   "metadata": {},
   "outputs": [],
   "source": [
    "import json\n",
    "\n",
    "f = open('raw_data/rikishi.json')\n",
    "\n",
    "# returns JSON object as a dictionary\n",
    "data = json.load(f)\n",
    "data = data[\"records\"]"
   ]
  },
  {
   "cell_type": "code",
   "execution_count": 24,
   "id": "a9f6b5a7-e9a3-42ec-a0c2-29a09a2a9bb5",
   "metadata": {
    "scrolled": true
   },
   "outputs": [],
   "source": [
    "import pandas as pd\n",
    "\n",
    "df = pd.DataFrame(data)"
   ]
  },
  {
   "cell_type": "code",
   "execution_count": 25,
   "id": "43701298-a277-44b8-8f62-80935e7c858c",
   "metadata": {
    "scrolled": true
   },
   "outputs": [],
   "source": [
    "# GET /api/basho/:bashoId/torikumi/:division/:day\n",
    "base_url = \"https://sumo-api.com/api\"\n",
    "\n",
    "first_year = 1958\n",
    "last_year = 2024\n",
    "months = [\"01\", \"03\", \"05\", \"07\", \"09\", \"11\"]\n",
    "first_day = 1\n",
    "last_day = 15\n",
    "divisions = [\"makuuchi\", \"juryo\", \"makushita\", \"sandanme\", \"jonidan\", \"jonokuchi\"]\n",
    "\n",
    "excluded_basho_ids = {\"195801\", \"202407\", \"202409\", \"202411\"} # tournaments in range that don't have data\n",
    "\n",
    "years = list(range(first_year, last_year + 1))\n",
    "days = list(range(first_day, last_day + 1))\n",
    "days = ['{:02d}'.format(day) for day in days]\n",
    "\n",
    "params = [(str(year) + month, division, day) for year in years for month in months for day in days for division in divisions]\n",
    "params = [param for param in params if param[0] not in excluded_basho_ids]"
   ]
  },
  {
   "cell_type": "code",
   "execution_count": 32,
   "id": "0f8a07a0-4a67-4758-a815-ade3e5462241",
   "metadata": {
    "scrolled": true
   },
   "outputs": [
    {
     "name": "stdout",
     "output_type": "stream",
     "text": [
      "[]\n",
      "DONE!\n"
     ]
    }
   ],
   "source": [
    "import json\n",
    "import requests\n",
    "import time\n",
    "\n",
    "failed_urls = []\n",
    "failed_urls_path = \"failed_urls.json\"\n",
    "for param in params:\n",
    "    basho_id, division, day = param\n",
    "    url = f\"{base_url}/basho/{basho_id}/torikumi/{division}/{day}\"\n",
    "\n",
    "    try:\n",
    "        response = requests.get(url)\n",
    "        if response.status_code == 200:\n",
    "            filename = f\"raw_data/basho/{basho_id}_{division}_{day}.json\"\n",
    "            with open(filename, 'w') as file:\n",
    "                json.dump(response.json(), file, indent=2)\n",
    "        else:\n",
    "            print(f\"Failed to fetch {url}, status code: {response.status_code}\")\n",
    "            failedUrls += [url]\n",
    "\n",
    "    except requests.exceptions.RequestException as e:\n",
    "        print(f\"Error fetching {url}, error: {e}\")\n",
    "        failedUrls += [url]\n",
    "\n",
    "    time.sleep(2)\n",
    "\n",
    "with open(failed_urls_path, 'w') as file:\n",
    "    json.dump(failed_urls, file)\n",
    "\n",
    "print(failed_urls)\n",
    "print(\"DONE!\")"
   ]
  }
 ],
 "metadata": {
  "kernelspec": {
   "display_name": "Python 3 (ipykernel)",
   "language": "python",
   "name": "python3"
  },
  "language_info": {
   "codemirror_mode": {
    "name": "ipython",
    "version": 3
   },
   "file_extension": ".py",
   "mimetype": "text/x-python",
   "name": "python",
   "nbconvert_exporter": "python",
   "pygments_lexer": "ipython3",
   "version": "3.12.4"
  }
 },
 "nbformat": 4,
 "nbformat_minor": 5
}
